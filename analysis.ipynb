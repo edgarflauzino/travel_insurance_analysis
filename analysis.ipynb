{
 "cells": [
  {
   "attachments": {},
   "cell_type": "markdown",
   "metadata": {},
   "source": [
    "## Case Study - Developing a Marketing Strategy for a Travel Insurance Company\n",
    "\n",
    "The goal of this data analysis project is to identify possible differences in travel habits between customers and non-customers from a fictional travel insurance company. New insights from the data might help the company to develop a more efficient marketing strategy, targeting potential customers.\n",
    "\n",
    "The company has plenty of data on their current customers as well as people who got quotes but never bought insurance. They want to know if there are differences in the travel habits between customers and non-customers."
   ]
  },
  {
   "attachments": {},
   "cell_type": "markdown",
   "metadata": {},
   "source": [
    "### 1. Data Inspection"
   ]
  },
  {
   "cell_type": "code",
   "execution_count": 254,
   "metadata": {},
   "outputs": [
    {
     "data": {
      "text/html": [
       "<div>\n",
       "<style scoped>\n",
       "    .dataframe tbody tr th:only-of-type {\n",
       "        vertical-align: middle;\n",
       "    }\n",
       "\n",
       "    .dataframe tbody tr th {\n",
       "        vertical-align: top;\n",
       "    }\n",
       "\n",
       "    .dataframe thead th {\n",
       "        text-align: right;\n",
       "    }\n",
       "</style>\n",
       "<table border=\"1\" class=\"dataframe\">\n",
       "  <thead>\n",
       "    <tr style=\"text-align: right;\">\n",
       "      <th></th>\n",
       "      <th>Age</th>\n",
       "      <th>Employment Type</th>\n",
       "      <th>GraduateOrNot</th>\n",
       "      <th>AnnualIncome</th>\n",
       "      <th>FamilyMembers</th>\n",
       "      <th>ChronicDiseases</th>\n",
       "      <th>FrequentFlyer</th>\n",
       "      <th>EverTravelledAbroad</th>\n",
       "      <th>TravelInsurance</th>\n",
       "    </tr>\n",
       "  </thead>\n",
       "  <tbody>\n",
       "    <tr>\n",
       "      <th>0</th>\n",
       "      <td>31</td>\n",
       "      <td>Government Sector</td>\n",
       "      <td>Yes</td>\n",
       "      <td>400000</td>\n",
       "      <td>6</td>\n",
       "      <td>1</td>\n",
       "      <td>No</td>\n",
       "      <td>No</td>\n",
       "      <td>0</td>\n",
       "    </tr>\n",
       "    <tr>\n",
       "      <th>1</th>\n",
       "      <td>31</td>\n",
       "      <td>Private Sector/Self Employed</td>\n",
       "      <td>Yes</td>\n",
       "      <td>1250000</td>\n",
       "      <td>7</td>\n",
       "      <td>0</td>\n",
       "      <td>No</td>\n",
       "      <td>No</td>\n",
       "      <td>0</td>\n",
       "    </tr>\n",
       "    <tr>\n",
       "      <th>2</th>\n",
       "      <td>34</td>\n",
       "      <td>Private Sector/Self Employed</td>\n",
       "      <td>Yes</td>\n",
       "      <td>500000</td>\n",
       "      <td>4</td>\n",
       "      <td>1</td>\n",
       "      <td>No</td>\n",
       "      <td>No</td>\n",
       "      <td>1</td>\n",
       "    </tr>\n",
       "    <tr>\n",
       "      <th>3</th>\n",
       "      <td>28</td>\n",
       "      <td>Private Sector/Self Employed</td>\n",
       "      <td>Yes</td>\n",
       "      <td>700000</td>\n",
       "      <td>3</td>\n",
       "      <td>1</td>\n",
       "      <td>No</td>\n",
       "      <td>No</td>\n",
       "      <td>0</td>\n",
       "    </tr>\n",
       "    <tr>\n",
       "      <th>4</th>\n",
       "      <td>28</td>\n",
       "      <td>Private Sector/Self Employed</td>\n",
       "      <td>Yes</td>\n",
       "      <td>700000</td>\n",
       "      <td>8</td>\n",
       "      <td>1</td>\n",
       "      <td>Yes</td>\n",
       "      <td>No</td>\n",
       "      <td>0</td>\n",
       "    </tr>\n",
       "  </tbody>\n",
       "</table>\n",
       "</div>"
      ],
      "text/plain": [
       "   Age               Employment Type GraduateOrNot  AnnualIncome  \\\n",
       "0   31             Government Sector           Yes        400000   \n",
       "1   31  Private Sector/Self Employed           Yes       1250000   \n",
       "2   34  Private Sector/Self Employed           Yes        500000   \n",
       "3   28  Private Sector/Self Employed           Yes        700000   \n",
       "4   28  Private Sector/Self Employed           Yes        700000   \n",
       "\n",
       "   FamilyMembers  ChronicDiseases FrequentFlyer EverTravelledAbroad  \\\n",
       "0              6                1            No                  No   \n",
       "1              7                0            No                  No   \n",
       "2              4                1            No                  No   \n",
       "3              3                1            No                  No   \n",
       "4              8                1           Yes                  No   \n",
       "\n",
       "   TravelInsurance  \n",
       "0                0  \n",
       "1                0  \n",
       "2                1  \n",
       "3                0  \n",
       "4                0  "
      ]
     },
     "execution_count": 254,
     "metadata": {},
     "output_type": "execute_result"
    }
   ],
   "source": [
    "import pandas as pd\n",
    "import seaborn as sns\n",
    "import matplotlib.pyplot as plt\n",
    "import re\n",
    "\n",
    "df = pd.read_csv('travel_insurance.csv')\n",
    "df.head()"
   ]
  },
  {
   "cell_type": "code",
   "execution_count": 255,
   "metadata": {},
   "outputs": [
    {
     "name": "stdout",
     "output_type": "stream",
     "text": [
      "<class 'pandas.core.frame.DataFrame'>\n",
      "RangeIndex: 1987 entries, 0 to 1986\n",
      "Data columns (total 9 columns):\n",
      " #   Column               Non-Null Count  Dtype \n",
      "---  ------               --------------  ----- \n",
      " 0   Age                  1987 non-null   int64 \n",
      " 1   Employment Type      1987 non-null   object\n",
      " 2   GraduateOrNot        1987 non-null   object\n",
      " 3   AnnualIncome         1987 non-null   int64 \n",
      " 4   FamilyMembers        1987 non-null   int64 \n",
      " 5   ChronicDiseases      1987 non-null   int64 \n",
      " 6   FrequentFlyer        1987 non-null   object\n",
      " 7   EverTravelledAbroad  1987 non-null   object\n",
      " 8   TravelInsurance      1987 non-null   int64 \n",
      "dtypes: int64(5), object(4)\n",
      "memory usage: 139.8+ KB\n"
     ]
    }
   ],
   "source": [
    "df.info()"
   ]
  },
  {
   "cell_type": "code",
   "execution_count": 256,
   "metadata": {},
   "outputs": [
    {
     "data": {
      "text/html": [
       "<div>\n",
       "<style scoped>\n",
       "    .dataframe tbody tr th:only-of-type {\n",
       "        vertical-align: middle;\n",
       "    }\n",
       "\n",
       "    .dataframe tbody tr th {\n",
       "        vertical-align: top;\n",
       "    }\n",
       "\n",
       "    .dataframe thead th {\n",
       "        text-align: right;\n",
       "    }\n",
       "</style>\n",
       "<table border=\"1\" class=\"dataframe\">\n",
       "  <thead>\n",
       "    <tr style=\"text-align: right;\">\n",
       "      <th></th>\n",
       "      <th>Age</th>\n",
       "      <th>AnnualIncome</th>\n",
       "      <th>FamilyMembers</th>\n",
       "      <th>ChronicDiseases</th>\n",
       "      <th>TravelInsurance</th>\n",
       "    </tr>\n",
       "  </thead>\n",
       "  <tbody>\n",
       "    <tr>\n",
       "      <th>count</th>\n",
       "      <td>1987.000000</td>\n",
       "      <td>1.987000e+03</td>\n",
       "      <td>1987.000000</td>\n",
       "      <td>1987.000000</td>\n",
       "      <td>1987.000000</td>\n",
       "    </tr>\n",
       "    <tr>\n",
       "      <th>mean</th>\n",
       "      <td>29.650226</td>\n",
       "      <td>9.327630e+05</td>\n",
       "      <td>4.752894</td>\n",
       "      <td>0.277806</td>\n",
       "      <td>0.357323</td>\n",
       "    </tr>\n",
       "    <tr>\n",
       "      <th>std</th>\n",
       "      <td>2.913308</td>\n",
       "      <td>3.768557e+05</td>\n",
       "      <td>1.609650</td>\n",
       "      <td>0.448030</td>\n",
       "      <td>0.479332</td>\n",
       "    </tr>\n",
       "    <tr>\n",
       "      <th>min</th>\n",
       "      <td>25.000000</td>\n",
       "      <td>3.000000e+05</td>\n",
       "      <td>2.000000</td>\n",
       "      <td>0.000000</td>\n",
       "      <td>0.000000</td>\n",
       "    </tr>\n",
       "    <tr>\n",
       "      <th>25%</th>\n",
       "      <td>28.000000</td>\n",
       "      <td>6.000000e+05</td>\n",
       "      <td>4.000000</td>\n",
       "      <td>0.000000</td>\n",
       "      <td>0.000000</td>\n",
       "    </tr>\n",
       "    <tr>\n",
       "      <th>50%</th>\n",
       "      <td>29.000000</td>\n",
       "      <td>9.000000e+05</td>\n",
       "      <td>5.000000</td>\n",
       "      <td>0.000000</td>\n",
       "      <td>0.000000</td>\n",
       "    </tr>\n",
       "    <tr>\n",
       "      <th>75%</th>\n",
       "      <td>32.000000</td>\n",
       "      <td>1.250000e+06</td>\n",
       "      <td>6.000000</td>\n",
       "      <td>1.000000</td>\n",
       "      <td>1.000000</td>\n",
       "    </tr>\n",
       "    <tr>\n",
       "      <th>max</th>\n",
       "      <td>35.000000</td>\n",
       "      <td>1.800000e+06</td>\n",
       "      <td>9.000000</td>\n",
       "      <td>1.000000</td>\n",
       "      <td>1.000000</td>\n",
       "    </tr>\n",
       "  </tbody>\n",
       "</table>\n",
       "</div>"
      ],
      "text/plain": [
       "               Age  AnnualIncome  FamilyMembers  ChronicDiseases  \\\n",
       "count  1987.000000  1.987000e+03    1987.000000      1987.000000   \n",
       "mean     29.650226  9.327630e+05       4.752894         0.277806   \n",
       "std       2.913308  3.768557e+05       1.609650         0.448030   \n",
       "min      25.000000  3.000000e+05       2.000000         0.000000   \n",
       "25%      28.000000  6.000000e+05       4.000000         0.000000   \n",
       "50%      29.000000  9.000000e+05       5.000000         0.000000   \n",
       "75%      32.000000  1.250000e+06       6.000000         1.000000   \n",
       "max      35.000000  1.800000e+06       9.000000         1.000000   \n",
       "\n",
       "       TravelInsurance  \n",
       "count      1987.000000  \n",
       "mean          0.357323  \n",
       "std           0.479332  \n",
       "min           0.000000  \n",
       "25%           0.000000  \n",
       "50%           0.000000  \n",
       "75%           1.000000  \n",
       "max           1.000000  "
      ]
     },
     "execution_count": 256,
     "metadata": {},
     "output_type": "execute_result"
    }
   ],
   "source": [
    "df.describe()"
   ]
  },
  {
   "cell_type": "code",
   "execution_count": 257,
   "metadata": {},
   "outputs": [
    {
     "data": {
      "text/plain": [
       "Age                    0\n",
       "Employment Type        0\n",
       "GraduateOrNot          0\n",
       "AnnualIncome           0\n",
       "FamilyMembers          0\n",
       "ChronicDiseases        0\n",
       "FrequentFlyer          0\n",
       "EverTravelledAbroad    0\n",
       "TravelInsurance        0\n",
       "dtype: int64"
      ]
     },
     "execution_count": 257,
     "metadata": {},
     "output_type": "execute_result"
    }
   ],
   "source": [
    "df.isnull().sum()"
   ]
  },
  {
   "attachments": {},
   "cell_type": "markdown",
   "metadata": {},
   "source": [
    "#### 2. Data Cleaning\n",
    "\n",
    "Given the above information about the dataset, some actions can be taken:\n",
    "\n",
    "* modifying column names to use <b>snake case format</b> which gives more readability - regex will be useful here\n",
    "* modify binary string columns (yes/no and employment type) to binary (0/1) - here government employees will be ``0`` and private/self employees ``1``."
   ]
  },
  {
   "cell_type": "code",
   "execution_count": 258,
   "metadata": {},
   "outputs": [
    {
     "data": {
      "text/plain": [
       "Index(['age', 'employment_type', 'graduate_or_not', 'annual_income',\n",
       "       'family_members', 'chronic_diseases', 'frequent_flyer',\n",
       "       'ever_travelled_abroad', 'travel_insurance'],\n",
       "      dtype='object')"
      ]
     },
     "execution_count": 258,
     "metadata": {},
     "output_type": "execute_result"
    }
   ],
   "source": [
    "# modifying column names with regex\n",
    "df.rename(columns={'Employment Type': 'EmploymentType'}, inplace=True)\n",
    "df.columns = [re.sub(r'(?<!^)(?=[A-Z])', '_', x).lower() for x in df.columns]\n",
    "df.columns"
   ]
  },
  {
   "cell_type": "code",
   "execution_count": 259,
   "metadata": {},
   "outputs": [
    {
     "data": {
      "text/html": [
       "<div>\n",
       "<style scoped>\n",
       "    .dataframe tbody tr th:only-of-type {\n",
       "        vertical-align: middle;\n",
       "    }\n",
       "\n",
       "    .dataframe tbody tr th {\n",
       "        vertical-align: top;\n",
       "    }\n",
       "\n",
       "    .dataframe thead th {\n",
       "        text-align: right;\n",
       "    }\n",
       "</style>\n",
       "<table border=\"1\" class=\"dataframe\">\n",
       "  <thead>\n",
       "    <tr style=\"text-align: right;\">\n",
       "      <th></th>\n",
       "      <th>age</th>\n",
       "      <th>employment_type</th>\n",
       "      <th>graduate_or_not</th>\n",
       "      <th>annual_income</th>\n",
       "      <th>family_members</th>\n",
       "      <th>chronic_diseases</th>\n",
       "      <th>frequent_flyer</th>\n",
       "      <th>ever_travelled_abroad</th>\n",
       "      <th>travel_insurance</th>\n",
       "    </tr>\n",
       "  </thead>\n",
       "  <tbody>\n",
       "    <tr>\n",
       "      <th>0</th>\n",
       "      <td>31</td>\n",
       "      <td>0</td>\n",
       "      <td>1</td>\n",
       "      <td>400000</td>\n",
       "      <td>6</td>\n",
       "      <td>1</td>\n",
       "      <td>0</td>\n",
       "      <td>0</td>\n",
       "      <td>0</td>\n",
       "    </tr>\n",
       "    <tr>\n",
       "      <th>1</th>\n",
       "      <td>31</td>\n",
       "      <td>1</td>\n",
       "      <td>1</td>\n",
       "      <td>1250000</td>\n",
       "      <td>7</td>\n",
       "      <td>0</td>\n",
       "      <td>0</td>\n",
       "      <td>0</td>\n",
       "      <td>0</td>\n",
       "    </tr>\n",
       "    <tr>\n",
       "      <th>2</th>\n",
       "      <td>34</td>\n",
       "      <td>1</td>\n",
       "      <td>1</td>\n",
       "      <td>500000</td>\n",
       "      <td>4</td>\n",
       "      <td>1</td>\n",
       "      <td>0</td>\n",
       "      <td>0</td>\n",
       "      <td>1</td>\n",
       "    </tr>\n",
       "    <tr>\n",
       "      <th>3</th>\n",
       "      <td>28</td>\n",
       "      <td>1</td>\n",
       "      <td>1</td>\n",
       "      <td>700000</td>\n",
       "      <td>3</td>\n",
       "      <td>1</td>\n",
       "      <td>0</td>\n",
       "      <td>0</td>\n",
       "      <td>0</td>\n",
       "    </tr>\n",
       "    <tr>\n",
       "      <th>4</th>\n",
       "      <td>28</td>\n",
       "      <td>1</td>\n",
       "      <td>1</td>\n",
       "      <td>700000</td>\n",
       "      <td>8</td>\n",
       "      <td>1</td>\n",
       "      <td>1</td>\n",
       "      <td>0</td>\n",
       "      <td>0</td>\n",
       "    </tr>\n",
       "  </tbody>\n",
       "</table>\n",
       "</div>"
      ],
      "text/plain": [
       "   age  employment_type  graduate_or_not  annual_income  family_members  \\\n",
       "0   31                0                1         400000               6   \n",
       "1   31                1                1        1250000               7   \n",
       "2   34                1                1         500000               4   \n",
       "3   28                1                1         700000               3   \n",
       "4   28                1                1         700000               8   \n",
       "\n",
       "   chronic_diseases  frequent_flyer  ever_travelled_abroad  travel_insurance  \n",
       "0                 1               0                      0                 0  \n",
       "1                 0               0                      0                 0  \n",
       "2                 1               0                      0                 1  \n",
       "3                 1               0                      0                 0  \n",
       "4                 1               1                      0                 0  "
      ]
     },
     "execution_count": 259,
     "metadata": {},
     "output_type": "execute_result"
    }
   ],
   "source": [
    "# modifying binary strings to number format\n",
    "\n",
    "df = df.replace({'Yes': 1, 'No': 0})\n",
    "df = df.replace({'Private Sector/Self Employed': 1, 'Government Sector': 0})\n",
    "df.head()"
   ]
  },
  {
   "attachments": {},
   "cell_type": "markdown",
   "metadata": {},
   "source": [
    "#### Checking for duplicates\n",
    "\n",
    "Given that the dataset come from a reliable source, the company itself, we should not worry much about duplicates, but still worth checking. The problem with this dataset is data it does not contain an primary key, like an id, so there may be identical charactistics that are shared among different people.\n",
    "We could check that and see how many rows are duplicated."
   ]
  },
  {
   "cell_type": "code",
   "execution_count": 260,
   "metadata": {},
   "outputs": [
    {
     "name": "stdout",
     "output_type": "stream",
     "text": [
      "738\n"
     ]
    },
    {
     "data": {
      "text/plain": [
       "0.3714141922496225"
      ]
     },
     "execution_count": 260,
     "metadata": {},
     "output_type": "execute_result"
    }
   ],
   "source": [
    "n_duplicates = df.duplicated().sum()\n",
    "print(n_duplicates)\n",
    "\n",
    "n_duplicates/df.shape[0]"
   ]
  },
  {
   "attachments": {},
   "cell_type": "markdown",
   "metadata": {},
   "source": [
    "So that are 738 rows that are equal to each other, which is about 37% of the dataset. A decision in this case will be to make an assumption that each row is a different client. One could also drop the duplicates and work with a smaller dataset."
   ]
  },
  {
   "attachments": {},
   "cell_type": "markdown",
   "metadata": {},
   "source": [
    "#### Identifying Outliers\n",
    "Next, some columns may contain outliers which could warm the analysis. The columns `annual_income`, `age` and `family_member` have a range of values, which make them good candidates for outliers.\n",
    "\n",
    "Below graphs show that there are none. The data is ready to explore."
   ]
  },
  {
   "cell_type": "code",
   "execution_count": 261,
   "metadata": {},
   "outputs": [
    {
     "data": {
      "image/png": "[encoded data removed]",
      "text/plain": [
       "<Figure size 432x288 with 3 Axes>"
      ]
     },
     "metadata": {
      "needs_background": "light"
     },
     "output_type": "display_data"
    }
   ],
   "source": [
    "fig, ax = plt.subplots(1,3)\n",
    "sns.boxplot(ax=ax[0], x='annual_income', data=df)\n",
    "sns.boxplot(ax=ax[1], x='age', data=df)\n",
    "sns.boxplot(ax=ax[2], x='family_members', data=df)\n",
    "plt.show()"
   ]
  },
  {
   "attachments": {},
   "cell_type": "markdown",
   "metadata": {},
   "source": [
    "### 3. Exploratory Data Analysis\n",
    "\n",
    "Given the requirements, is known that `travel_insurance` is the independent variable (the variable we want to predict). The company wants to create an effective marketing strategy by targeting customers that are more likely to buy travel insurance.\n",
    "\n",
    "To observe the dataset as a whole, the ``.hist()`` method helps visualize the distribution for each numerical column."
   ]
  },
  {
   "cell_type": "code",
   "execution_count": 262,
   "metadata": {},
   "outputs": [
    {
     "data": {
      "image/png": "[encoded data removed]",
      "text/plain": [
       "<Figure size 720x720 with 9 Axes>"
      ]
     },
     "metadata": {
      "needs_background": "light"
     },
     "output_type": "display_data"
    }
   ],
   "source": [
    "fig, ax = plt.subplots(3,3, figsize=(10,10))\n",
    "for j in range(3):\n",
    "    for i, column in zip(range(3), df.columns[j*3:]): \n",
    "        g = sns.countplot(x=column, data=df, hue='travel_insurance', dodge=False, alpha=0.75, ax=ax[j,i])\n",
    "        ax[j,i].legend([])\n",
    "        g.set_yticks([])\n",
    "        g.set_ylabel('')\n",
    "        ax[j,i].xaxis.set_major_locator(plt.MaxNLocator(5)) if column == 'annual_income' else None\n",
    "            \n",
    "\n",
    "fig.legend(*ax[0,0].get_legend_handles_labels(), loc='upper center', title='Travel Insurance')\n",
    "plt.tight_layout()"
   ]
  },
  {
   "attachments": {},
   "cell_type": "markdown",
   "metadata": {},
   "source": [
    "The histograms provide some key hypothesis:\n",
    "\n",
    "* Most people with ages ranging from 25-26 and 33-35 are likely to buy insurance. In contrast, people with ages ranging from age 27-32 are less likely to buy insurance.\n",
    "* Private sector or self employed people has a slightly higher chance to buy insurance, but most still doesn't.\n",
    "* It appears that ``graduation`` is not a relevant factor to explore, since graduated and non-graduated individuals all have similar percentage of travel insurance buyers. Same for `chronic diseases`.\n",
    "* The majority of higher income individuals (more than 1.35mi annually) have travel insurance. This is an important finding.\n",
    "* People from families with 6 or more members are more likely to have a travel insurance compared to smaller families.\n",
    "* Frequent flyers and people who travelled abroad are more likely to buy travel insurance.\n",
    "\n",
    "It's important to transform these findings into quantitative data, collecting statistics to support the hypothesis."
   ]
  },
  {
   "attachments": {},
   "cell_type": "markdown",
   "metadata": {},
   "source": [
    "#### 3.1 Age vs Travel Insurance"
   ]
  },
  {
   "cell_type": "code",
   "execution_count": 263,
   "metadata": {},
   "outputs": [
    {
     "data": {
      "text/html": [
       "<div>\n",
       "<style scoped>\n",
       "    .dataframe tbody tr th:only-of-type {\n",
       "        vertical-align: middle;\n",
       "    }\n",
       "\n",
       "    .dataframe tbody tr th {\n",
       "        vertical-align: top;\n",
       "    }\n",
       "\n",
       "    .dataframe thead th {\n",
       "        text-align: right;\n",
       "    }\n",
       "</style>\n",
       "<table border=\"1\" class=\"dataframe\">\n",
       "  <thead>\n",
       "    <tr style=\"text-align: right;\">\n",
       "      <th></th>\n",
       "      <th>travel_insurance</th>\n",
       "    </tr>\n",
       "    <tr>\n",
       "      <th>age_range</th>\n",
       "      <th></th>\n",
       "    </tr>\n",
       "  </thead>\n",
       "  <tbody>\n",
       "    <tr>\n",
       "      <th>25-26</th>\n",
       "      <td>0.564626</td>\n",
       "    </tr>\n",
       "    <tr>\n",
       "      <th>27-32</th>\n",
       "      <td>0.250205</td>\n",
       "    </tr>\n",
       "    <tr>\n",
       "      <th>33-35</th>\n",
       "      <td>0.504219</td>\n",
       "    </tr>\n",
       "  </tbody>\n",
       "</table>\n",
       "</div>"
      ],
      "text/plain": [
       "           travel_insurance\n",
       "age_range                  \n",
       "25-26              0.564626\n",
       "27-32              0.250205\n",
       "33-35              0.504219"
      ]
     },
     "execution_count": 263,
     "metadata": {},
     "output_type": "execute_result"
    }
   ],
   "source": [
    "df_age = df[['age', 'travel_insurance']].copy() # copy creates a new df instead of a view\n",
    "\n",
    "df_age.loc[df_age['age'].between(0, 26, inclusive='both'), 'age_range'] = '25-26'\n",
    "df_age.loc[df_age['age'].between(27, 32, inclusive='both'), 'age_range'] = '27-32'\n",
    "df_age.loc[df_age['age'].between(33, 60, inclusive='both'), 'age_range'] = '33-35'\n",
    "\n",
    "df_age.groupby('age_range').mean().drop(columns='age')"
   ]
  },
  {
   "attachments": {},
   "cell_type": "markdown",
   "metadata": {},
   "source": [
    "#### 3.2 Employment Type vs Travel Insurance"
   ]
  },
  {
   "cell_type": "code",
   "execution_count": 264,
   "metadata": {},
   "outputs": [
    {
     "data": {
      "text/html": [
       "<div>\n",
       "<style scoped>\n",
       "    .dataframe tbody tr th:only-of-type {\n",
       "        vertical-align: middle;\n",
       "    }\n",
       "\n",
       "    .dataframe tbody tr th {\n",
       "        vertical-align: top;\n",
       "    }\n",
       "\n",
       "    .dataframe thead th {\n",
       "        text-align: right;\n",
       "    }\n",
       "</style>\n",
       "<table border=\"1\" class=\"dataframe\">\n",
       "  <thead>\n",
       "    <tr style=\"text-align: right;\">\n",
       "      <th></th>\n",
       "      <th>travel_insurance</th>\n",
       "    </tr>\n",
       "    <tr>\n",
       "      <th>employment_type</th>\n",
       "      <th></th>\n",
       "    </tr>\n",
       "  </thead>\n",
       "  <tbody>\n",
       "    <tr>\n",
       "      <th>0</th>\n",
       "      <td>0.245614</td>\n",
       "    </tr>\n",
       "    <tr>\n",
       "      <th>1</th>\n",
       "      <td>0.402258</td>\n",
       "    </tr>\n",
       "  </tbody>\n",
       "</table>\n",
       "</div>"
      ],
      "text/plain": [
       "                 travel_insurance\n",
       "employment_type                  \n",
       "0                        0.245614\n",
       "1                        0.402258"
      ]
     },
     "execution_count": 264,
     "metadata": {},
     "output_type": "execute_result"
    }
   ],
   "source": [
    "df_et = df[['employment_type', 'travel_insurance']].copy()\n",
    "df_et.groupby('employment_type').mean()"
   ]
  },
  {
   "attachments": {},
   "cell_type": "markdown",
   "metadata": {},
   "source": [
    "#### 3.3 Graduation vs Travel Insurance"
   ]
  },
  {
   "cell_type": "code",
   "execution_count": 265,
   "metadata": {},
   "outputs": [
    {
     "data": {
      "text/html": [
       "<div>\n",
       "<style scoped>\n",
       "    .dataframe tbody tr th:only-of-type {\n",
       "        vertical-align: middle;\n",
       "    }\n",
       "\n",
       "    .dataframe tbody tr th {\n",
       "        vertical-align: top;\n",
       "    }\n",
       "\n",
       "    .dataframe thead th {\n",
       "        text-align: right;\n",
       "    }\n",
       "</style>\n",
       "<table border=\"1\" class=\"dataframe\">\n",
       "  <thead>\n",
       "    <tr style=\"text-align: right;\">\n",
       "      <th></th>\n",
       "      <th>travel_insurance</th>\n",
       "    </tr>\n",
       "    <tr>\n",
       "      <th>graduate_or_not</th>\n",
       "      <th></th>\n",
       "    </tr>\n",
       "  </thead>\n",
       "  <tbody>\n",
       "    <tr>\n",
       "      <th>0</th>\n",
       "      <td>0.335593</td>\n",
       "    </tr>\n",
       "    <tr>\n",
       "      <th>1</th>\n",
       "      <td>0.361111</td>\n",
       "    </tr>\n",
       "  </tbody>\n",
       "</table>\n",
       "</div>"
      ],
      "text/plain": [
       "                 travel_insurance\n",
       "graduate_or_not                  \n",
       "0                        0.335593\n",
       "1                        0.361111"
      ]
     },
     "execution_count": 265,
     "metadata": {},
     "output_type": "execute_result"
    }
   ],
   "source": [
    "df_g = df[['graduate_or_not', 'travel_insurance']].copy()\n",
    "df_g.groupby('graduate_or_not').mean()"
   ]
  },
  {
   "attachments": {},
   "cell_type": "markdown",
   "metadata": {},
   "source": [
    "#### 3.4 Income vs Travel Insurance"
   ]
  },
  {
   "cell_type": "code",
   "execution_count": 266,
   "metadata": {},
   "outputs": [
    {
     "data": {
      "text/html": [
       "<div>\n",
       "<style scoped>\n",
       "    .dataframe tbody tr th:only-of-type {\n",
       "        vertical-align: middle;\n",
       "    }\n",
       "\n",
       "    .dataframe tbody tr th {\n",
       "        vertical-align: top;\n",
       "    }\n",
       "\n",
       "    .dataframe thead th {\n",
       "        text-align: right;\n",
       "    }\n",
       "</style>\n",
       "<table border=\"1\" class=\"dataframe\">\n",
       "  <thead>\n",
       "    <tr style=\"text-align: right;\">\n",
       "      <th></th>\n",
       "      <th>travel_insurance</th>\n",
       "    </tr>\n",
       "    <tr>\n",
       "      <th>income_range</th>\n",
       "      <th></th>\n",
       "    </tr>\n",
       "  </thead>\n",
       "  <tbody>\n",
       "    <tr>\n",
       "      <th>0-1.35m</th>\n",
       "      <td>0.239316</td>\n",
       "    </tr>\n",
       "    <tr>\n",
       "      <th>1.35-2mi</th>\n",
       "      <td>0.911175</td>\n",
       "    </tr>\n",
       "  </tbody>\n",
       "</table>\n",
       "</div>"
      ],
      "text/plain": [
       "              travel_insurance\n",
       "income_range                  \n",
       "0-1.35m               0.239316\n",
       "1.35-2mi              0.911175"
      ]
     },
     "execution_count": 266,
     "metadata": {},
     "output_type": "execute_result"
    }
   ],
   "source": [
    "df_i = df[['annual_income', 'travel_insurance']].copy() # copy creates a new df instead of a view\n",
    "\n",
    "df_i.loc[df_i['annual_income'].between(0, 1350000, inclusive='both'), 'income_range'] = '0-1.35m'\n",
    "df_i.loc[df_i['annual_income'].between(1350000, 2000000, inclusive='both'), 'income_range'] = '1.35-2mi'\n",
    "\n",
    "df_i.groupby('income_range').mean().drop(columns='annual_income')"
   ]
  },
  {
   "attachments": {},
   "cell_type": "markdown",
   "metadata": {},
   "source": [
    "#### 3.5 Family Size vs Travel Insurance"
   ]
  },
  {
   "cell_type": "code",
   "execution_count": 267,
   "metadata": {},
   "outputs": [
    {
     "data": {
      "text/html": [
       "<div>\n",
       "<style scoped>\n",
       "    .dataframe tbody tr th:only-of-type {\n",
       "        vertical-align: middle;\n",
       "    }\n",
       "\n",
       "    .dataframe tbody tr th {\n",
       "        vertical-align: top;\n",
       "    }\n",
       "\n",
       "    .dataframe thead th {\n",
       "        text-align: right;\n",
       "    }\n",
       "</style>\n",
       "<table border=\"1\" class=\"dataframe\">\n",
       "  <thead>\n",
       "    <tr style=\"text-align: right;\">\n",
       "      <th></th>\n",
       "      <th>travel_insurance</th>\n",
       "    </tr>\n",
       "    <tr>\n",
       "      <th>family_range</th>\n",
       "      <th></th>\n",
       "    </tr>\n",
       "  </thead>\n",
       "  <tbody>\n",
       "    <tr>\n",
       "      <th>0-5</th>\n",
       "      <td>0.323340</td>\n",
       "    </tr>\n",
       "    <tr>\n",
       "      <th>6-9</th>\n",
       "      <td>0.438567</td>\n",
       "    </tr>\n",
       "  </tbody>\n",
       "</table>\n",
       "</div>"
      ],
      "text/plain": [
       "              travel_insurance\n",
       "family_range                  \n",
       "0-5                   0.323340\n",
       "6-9                   0.438567"
      ]
     },
     "execution_count": 267,
     "metadata": {},
     "output_type": "execute_result"
    }
   ],
   "source": [
    "df_fs = df[['family_members', 'travel_insurance']].copy() # copy creates a new df instead of a view\n",
    "\n",
    "df_fs.loc[df_fs['family_members'].between(0, 5, inclusive='both'), 'family_range'] = '0-5'\n",
    "df_fs.loc[df_fs['family_members'].between(6, 10, inclusive='both'), 'family_range'] = '6-9'\n",
    "\n",
    "df_fs.groupby('family_range').mean().drop(columns='family_members')"
   ]
  },
  {
   "attachments": {},
   "cell_type": "markdown",
   "metadata": {},
   "source": [
    "#### 3.6 Chronic Diseases vs Travel Insurance"
   ]
  },
  {
   "cell_type": "code",
   "execution_count": 268,
   "metadata": {},
   "outputs": [
    {
     "data": {
      "text/html": [
       "<div>\n",
       "<style scoped>\n",
       "    .dataframe tbody tr th:only-of-type {\n",
       "        vertical-align: middle;\n",
       "    }\n",
       "\n",
       "    .dataframe tbody tr th {\n",
       "        vertical-align: top;\n",
       "    }\n",
       "\n",
       "    .dataframe thead th {\n",
       "        text-align: right;\n",
       "    }\n",
       "</style>\n",
       "<table border=\"1\" class=\"dataframe\">\n",
       "  <thead>\n",
       "    <tr style=\"text-align: right;\">\n",
       "      <th></th>\n",
       "      <th>travel_insurance</th>\n",
       "    </tr>\n",
       "    <tr>\n",
       "      <th>chronic_diseases</th>\n",
       "      <th></th>\n",
       "    </tr>\n",
       "  </thead>\n",
       "  <tbody>\n",
       "    <tr>\n",
       "      <th>0</th>\n",
       "      <td>0.351916</td>\n",
       "    </tr>\n",
       "    <tr>\n",
       "      <th>1</th>\n",
       "      <td>0.371377</td>\n",
       "    </tr>\n",
       "  </tbody>\n",
       "</table>\n",
       "</div>"
      ],
      "text/plain": [
       "                  travel_insurance\n",
       "chronic_diseases                  \n",
       "0                         0.351916\n",
       "1                         0.371377"
      ]
     },
     "execution_count": 268,
     "metadata": {},
     "output_type": "execute_result"
    }
   ],
   "source": [
    "df_cd = df[['chronic_diseases', 'travel_insurance']].copy()\n",
    "df_cd.groupby('chronic_diseases').mean()"
   ]
  },
  {
   "attachments": {},
   "cell_type": "markdown",
   "metadata": {},
   "source": [
    "#### 3.7 Travelled Abroad vs Travel Insurance"
   ]
  },
  {
   "cell_type": "code",
   "execution_count": 269,
   "metadata": {},
   "outputs": [
    {
     "data": {
      "text/html": [
       "<div>\n",
       "<style scoped>\n",
       "    .dataframe tbody tr th:only-of-type {\n",
       "        vertical-align: middle;\n",
       "    }\n",
       "\n",
       "    .dataframe tbody tr th {\n",
       "        vertical-align: top;\n",
       "    }\n",
       "\n",
       "    .dataframe thead th {\n",
       "        text-align: right;\n",
       "    }\n",
       "</style>\n",
       "<table border=\"1\" class=\"dataframe\">\n",
       "  <thead>\n",
       "    <tr style=\"text-align: right;\">\n",
       "      <th></th>\n",
       "      <th>travel_insurance</th>\n",
       "    </tr>\n",
       "    <tr>\n",
       "      <th>ever_travelled_abroad</th>\n",
       "      <th></th>\n",
       "    </tr>\n",
       "  </thead>\n",
       "  <tbody>\n",
       "    <tr>\n",
       "      <th>0</th>\n",
       "      <td>0.256378</td>\n",
       "    </tr>\n",
       "    <tr>\n",
       "      <th>1</th>\n",
       "      <td>0.784211</td>\n",
       "    </tr>\n",
       "  </tbody>\n",
       "</table>\n",
       "</div>"
      ],
      "text/plain": [
       "                       travel_insurance\n",
       "ever_travelled_abroad                  \n",
       "0                              0.256378\n",
       "1                              0.784211"
      ]
     },
     "execution_count": 269,
     "metadata": {},
     "output_type": "execute_result"
    }
   ],
   "source": [
    "df_ta = df[['ever_travelled_abroad', 'travel_insurance']].copy()\n",
    "df_ta.groupby('ever_travelled_abroad').mean()"
   ]
  },
  {
   "attachments": {},
   "cell_type": "markdown",
   "metadata": {},
   "source": [
    "#### 3.8 Frequent Flyers vs Travel Insurance"
   ]
  },
  {
   "cell_type": "code",
   "execution_count": 270,
   "metadata": {},
   "outputs": [
    {
     "data": {
      "text/html": [
       "<div>\n",
       "<style scoped>\n",
       "    .dataframe tbody tr th:only-of-type {\n",
       "        vertical-align: middle;\n",
       "    }\n",
       "\n",
       "    .dataframe tbody tr th {\n",
       "        vertical-align: top;\n",
       "    }\n",
       "\n",
       "    .dataframe thead th {\n",
       "        text-align: right;\n",
       "    }\n",
       "</style>\n",
       "<table border=\"1\" class=\"dataframe\">\n",
       "  <thead>\n",
       "    <tr style=\"text-align: right;\">\n",
       "      <th></th>\n",
       "      <th>travel_insurance</th>\n",
       "    </tr>\n",
       "    <tr>\n",
       "      <th>frequent_flyer</th>\n",
       "      <th></th>\n",
       "    </tr>\n",
       "  </thead>\n",
       "  <tbody>\n",
       "    <tr>\n",
       "      <th>0</th>\n",
       "      <td>0.300000</td>\n",
       "    </tr>\n",
       "    <tr>\n",
       "      <th>1</th>\n",
       "      <td>0.573141</td>\n",
       "    </tr>\n",
       "  </tbody>\n",
       "</table>\n",
       "</div>"
      ],
      "text/plain": [
       "                travel_insurance\n",
       "frequent_flyer                  \n",
       "0                       0.300000\n",
       "1                       0.573141"
      ]
     },
     "execution_count": 270,
     "metadata": {},
     "output_type": "execute_result"
    }
   ],
   "source": [
    "df_ff = df[['frequent_flyer', 'travel_insurance']].copy()\n",
    "df_ff.groupby('frequent_flyer').mean()"
   ]
  },
  {
   "attachments": {},
   "cell_type": "markdown",
   "metadata": {},
   "source": [
    "To target ideal clients, there are several approachs to define a strategy. If the company wants to be effective, they may select the groups that have a higher probability of buying insurance. For example, it would be best in this case to neglect the family size because it has a small difference between groups (which are also harder to identify in a online marketing approach), and focus on other variables that seem to play a bigger role, like ``income``, `travel_abroad` and `frequent_flyer`.\n",
    "\n",
    "However, if the company wishes to be more assertive, they may as well target private/self employees (in this case it would be best to investigate if private employees have the same behavior as self employees) and even family size, if they have a way to measure it."
   ]
  },
  {
   "attachments": {},
   "cell_type": "markdown",
   "metadata": {},
   "source": [
    "#### 3.9 Correlation Matrix\n",
    "\n",
    "To increase the confidentiality of the analysis, it's possible to identify potential correlations between the variables by plotting a ``heatmap graph`` of the correlations dataset."
   ]
  },
  {
   "cell_type": "code",
   "execution_count": 271,
   "metadata": {},
   "outputs": [
    {
     "data": {
      "text/plain": [
       "<AxesSubplot:>"
      ]
     },
     "execution_count": 271,
     "metadata": {},
     "output_type": "execute_result"
    },
    {
     "data": {
      "image/png": "[encoded data removed]",
      "text/plain": [
       "<Figure size 432x288 with 2 Axes>"
      ]
     },
     "metadata": {
      "needs_background": "light"
     },
     "output_type": "display_data"
    }
   ],
   "source": [
    "sns.heatmap(df.corr(), annot=True)"
   ]
  },
  {
   "attachments": {},
   "cell_type": "markdown",
   "metadata": {},
   "source": [
    "In the correlation heatmap above, it's possible to identify that it follows the trends from the distribution plots. The variables with stronger correlations are `ever_travelled_abroad`, `annual_income` and `frequent_flyer`, which makes perfect sense if you think about it. Also, these 3 features also have correlation between each other, which emphasizes the behavior.\n",
    "\n",
    "`ever_travelled_abroad` and `annual_income` have a moderate correlation, whereas `frequent_flyer` have a weak to moderate correlation, but still worth analyzing."
   ]
  },
  {
   "cell_type": "code",
   "execution_count": 272,
   "metadata": {},
   "outputs": [
    {
     "data": {
      "text/plain": [
       "<AxesSubplot:>"
      ]
     },
     "execution_count": 272,
     "metadata": {},
     "output_type": "execute_result"
    },
    {
     "data": {
      "image/png": "[encoded data removed]",
      "text/plain": [
       "<Figure size 432x288 with 2 Axes>"
      ]
     },
     "metadata": {
      "needs_background": "light"
     },
     "output_type": "display_data"
    }
   ],
   "source": [
    "sns.heatmap(df[['annual_income', 'frequent_flyer', 'ever_travelled_abroad',\n",
    " 'travel_insurance']].corr(), annot=True)"
   ]
  },
  {
   "attachments": {},
   "cell_type": "markdown",
   "metadata": {},
   "source": [
    "A scatterplot would help to visualize the linear correlation. However, as seen below, it's not ideal. The independent variable is binary, (either 0 or 1), which makes linear regression not a good candidate for analysis."
   ]
  },
  {
   "cell_type": "code",
   "execution_count": 273,
   "metadata": {},
   "outputs": [
    {
     "data": {
      "image/png": "[encoded data removed]",
      "text/plain": [
       "<Figure size 720x720 with 9 Axes>"
      ]
     },
     "metadata": {
      "needs_background": "light"
     },
     "output_type": "display_data"
    }
   ],
   "source": [
    "fig, ax = plt.subplots(3,3, figsize=(10,10))\n",
    "for j in range(3):\n",
    "    for i, column in zip(range(3), df.columns[j*3:]): \n",
    "        try:\n",
    "            sns.regplot(x=column, y='travel_insurance', data=df, ax=ax[j,i])\n",
    "        except:\n",
    "            pass\n",
    "plt.tight_layout()"
   ]
  },
  {
   "attachments": {},
   "cell_type": "markdown",
   "metadata": {},
   "source": [
    "#### 4. Building a Model\n",
    "\n",
    "To validate our analysis, a model can be build to evaluate the assumptions taken from the data exploration. The model could predict the likelihood of a given customer to buy insurance, reinforcing the insights. As new data is added to the dataset, the model can continue to be trained and fine-tuned to help the marketing team to target potential buyers more efficiently.\n",
    "\n",
    "It's known from that linear regression won't fit the data well enough. Given that the line range is infinity, it would have values outside 0 and 1 range. In this case, a better tool is to use ``logistic regression`` to analyze the probability of a binary outcome (buy travel insurance) given the predictors.\n",
    "\n",
    " A logistic regression predicts the probability of an outcome based on a cutoff, usually 0.5. In this case, if the logistic regression model calculates a probability higher than 0.5, the client is likely to buy insurance, and below that, the client is likely not to buy insurance.\n",
    "\n",
    "Working with the ``scikit-learn`` package will provide the necessary tools to perform the analysis."
   ]
  },
  {
   "cell_type": "code",
   "execution_count": 274,
   "metadata": {},
   "outputs": [],
   "source": [
    "from sklearn.linear_model import LogisticRegression\n",
    "from sklearn.model_selection import train_test_split\n",
    "from sklearn.preprocessing import StandardScaler\n",
    "from sklearn.metrics import confusion_matrix\n",
    "\n",
    "features = df[['annual_income', 'ever_travelled_abroad']]\n",
    "outcome = df[['travel_insurance']]\n",
    "\n",
    "# create train and test sets\n",
    "X_train, X_test, y_train, y_test = train_test_split(features, outcome, test_size=0.75, shuffle=True, random_state=1)"
   ]
  },
  {
   "cell_type": "code",
   "execution_count": 275,
   "metadata": {},
   "outputs": [],
   "source": [
    "# scale feature data\n",
    "scaler = StandardScaler()\n",
    "rescaled_X_train = scaler.fit_transform(X_train)\n",
    "rescaled_X_test = scaler.transform(X_test)"
   ]
  },
  {
   "cell_type": "code",
   "execution_count": 276,
   "metadata": {},
   "outputs": [
    {
     "name": "stdout",
     "output_type": "stream",
     "text": [
      "Accuracy of testing set: 77.33%\n",
      "Coef. value for annual_income: 0.54\n",
      "Coef. value for ever_travelled_abroad: 0.58\n",
      "\n",
      " [[896  64]\n",
      " [274 257]]\n"
     ]
    }
   ],
   "source": [
    "# training the model\n",
    "model = LogisticRegression()\n",
    "model.fit(rescaled_X_train, y_train.values.ravel())\n",
    "\n",
    "y_pred = model.predict(rescaled_X_test)\n",
    "accuracy = model.score(rescaled_X_test, y_test)\n",
    "\n",
    "print(f'Accuracy of testing set: {round(accuracy*100,2)}%')\n",
    "\n",
    "for x, y in zip(features.columns, model.coef_[0]):\n",
    "    print(f'Coef. value for {x}: {round(y,3)}')\n",
    "\n",
    "print(f'\\n {confusion_matrix(y_test, y_pred)}')"
   ]
  },
  {
   "attachments": {},
   "cell_type": "markdown",
   "metadata": {},
   "source": [
    "#### Model takeaways\n",
    "\n",
    "The accuracy of the model is around 75-80%, and it's a good accuracy given the scenario. Statistically speaking the selected variables are able to predict with this accuracy if a person will buy insurance or not.\n",
    "\n",
    "Based on the confusion matrix, there is still a higher number of ``false negatives``, meaning that the model classified a person as a non-buyer when it was a buyer. There could be some other factors involved in the analysis, but in order to not be so selective and targeting only a small group of people, focusing on the variables that have the most effect is key. The model used only two variables, ``annual_income`` and ``ever_travelled_abroad``, and still had a good accuracy.\n",
    "\n",
    "The use of statistics regression reinforced that the variables selected are correct and could potentially improve the marketing efficiency."
   ]
  },
  {
   "attachments": {},
   "cell_type": "markdown",
   "metadata": {},
   "source": [
    "#### 5. Conclusion"
   ]
  },
  {
   "attachments": {},
   "cell_type": "markdown",
   "metadata": {},
   "source": [
    "Given the exploratory analysis of the dataset, it was possible to extract some numbers and generate insights that can enhance marketing actions.\n",
    "\n",
    "* Among all passengers, 90% of high-income passengers (1.36 million or more) purchased travel insurance. While this percentage remains at 24% for incomes lower than this.\n",
    "\n",
    "* Apparently, passengers with families over 6 people are also more likely to purchase insurance.\n",
    "\n",
    "* Passengers who travel more frequently are also more likely to purchase insurance compared to those who don't travel frequently (57% vs 30%).\n",
    "\n",
    "* Passengers who have already travelled abroad also tend to buy travel insurance, the data indicate that 78% of travellers who have gone to another country have already purchased insurance, while for those who have never travelled abroad, this percentage is in the range of 30%.\n",
    "\n",
    "* 40% of flyers that work in the private sector or are self-employed buy insurance, whereas flyers that work in the government are less likely to buy, with a percentage of 25%.\n",
    "\n",
    "Given that in order to have a more effective marketing it's necessary to know better the habits of the clients, a marketing strategy focused on high-income clients and/or have traveled abroad can be effective. This doesn't mean that they should focus on customers with income above 1.35 million, the company may decide to lower the minimum threshold to reach more customers, even if it loses some efficiency.\n",
    "\n",
    "The company may have an even more specific target group if it decides to also base itself on other variables such as family size, frequency of flights, type of job, but this can segment the target group, and make the process of identifying customers with this profile a lot harder."
   ]
  },
  {
   "attachments": {},
   "cell_type": "markdown",
   "metadata": {},
   "source": [
    "**RECOMMENDATIONS**\n",
    "\n",
    "For a better marketing strategy, the company should focus mainly on:\n",
    "\n",
    "1. High-income flyers (more than 1 million anually).\n",
    "2. Flyers who travelled abroad.\n",
    "\n",
    "Also, if they desire more specificity, other groups can be included:\n",
    "\n",
    "3. Clients with larger families (6 to 9 people).\n",
    "4. People that flies frequently.\n",
    "5. Flyers that work in the private sector or are self-employed."
   ]
  }
 ],
 "metadata": {
  "kernelspec": {
   "display_name": "Python 3.10.4 64-bit",
   "language": "python",
   "name": "python3"
  },
  "language_info": {
   "codemirror_mode": {
    "name": "ipython",
    "version": 3
   },
   "file_extension": ".py",
   "mimetype": "text/x-python",
   "name": "python",
   "nbconvert_exporter": "python",
   "pygments_lexer": "ipython3",
   "version": "3.10.4"
  },
  "orig_nbformat": 4,
  "vscode": {
   "interpreter": {
    "hash": "7b32247e2a68c451bf70e37de56a22205f0146aa58c7bd101165fa105591a883"
   }
  }
 },
 "nbformat": 4,
 "nbformat_minor": 2
}
